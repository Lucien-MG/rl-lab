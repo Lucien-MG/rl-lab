{
 "cells": [
  {
   "cell_type": "code",
   "execution_count": null,
   "metadata": {},
   "outputs": [],
   "source": [
    "import collections\n",
    "import numpy as np\n",
    "import gymnasium as gym\n",
    "import plotly.graph_objects as go\n",
    "\n",
    "from IPython.display import Video"
   ]
  },
  {
   "cell_type": "code",
   "execution_count": null,
   "metadata": {},
   "outputs": [],
   "source": [
    "env = gym.make('FrozenLake-v1', desc=None, map_name=\"8x8\", is_slippery=False)"
   ]
  },
  {
   "cell_type": "code",
   "execution_count": null,
   "metadata": {},
   "outputs": [],
   "source": [
    "def play_env(env, agent, record=False):\n",
    "    nb_step = 0\n",
    "    terminated = False\n",
    "    observation, info = env.reset()\n",
    "\n",
    "    if record:\n",
    "        env.start_video_recorder()\n",
    "        env.render()\n",
    "\n",
    "    while not terminated:\n",
    "        action = agent.action(observation)\n",
    "\n",
    "        new_observation, reward, terminated, truncated, info = env.step(action)\n",
    "\n",
    "        if record:\n",
    "            env.render()\n",
    "\n",
    "        agent.observe(observation, new_observation, action, reward, terminated)\n",
    "\n",
    "        observation = new_observation\n",
    "\n",
    "        nb_step += 1\n",
    "    \n",
    "    agent.estimating()\n",
    "\n",
    "    return reward, nb_step"
   ]
  },
  {
   "cell_type": "code",
   "execution_count": null,
   "metadata": {},
   "outputs": [],
   "source": [
    "class Dyna():\n",
    "\n",
    "    def __init__(self, action_space, gamma, alpha, policy, number_of_model_repetition):\n",
    "        self.gamma  = gamma\n",
    "        self.alpha = alpha\n",
    "        self.policy = policy\n",
    "        self.number_of_model_repetition = number_of_model_repetition\n",
    "\n",
    "        self.state_action_values = collections.defaultdict(action_space)\n",
    "        self.model = collections.defaultdict(lambda: {})\n",
    "\n",
    "    def action(self, state):\n",
    "        state_action_value = self.state_action_values[state]\n",
    "        return self.policy(state_action_value)\n",
    "    \n",
    "    def observe(self, state, next_state, action, reward, terminated):\n",
    "        if terminated:\n",
    "            self.state_action_values[state][action] += self.alpha * (reward - self.state_action_values[state][action])\n",
    "            self.next_action = None\n",
    "        else:\n",
    "            self.state_action_values[state][action] += self.alpha * (\n",
    "                reward + self.gamma * max(self.state_action_values[next_state]) - self.state_action_values[state][action]\n",
    "            )\n",
    "            self.model[state][action] = (reward, next_state)\n",
    "        \n",
    "        for i in range(self.number_of_model_repetition):\n",
    "            random_state = np.random.choice(list(self.model.keys()))\n",
    "            random_action = np.random.choice(list(self.model[random_state].keys()))\n",
    "\n",
    "            random_next_reward, random_next_state = self.model[random_state][random_action]\n",
    "\n",
    "            self.state_action_values[random_state][random_action] += self.alpha * (\n",
    "                random_next_reward + self.gamma * max(self.state_action_values[random_next_state]) - self.state_action_values[random_state][random_action]\n",
    "            )\n",
    "    \n",
    "    def estimating(self):\n",
    "        return"
   ]
  },
  {
   "cell_type": "code",
   "execution_count": null,
   "metadata": {},
   "outputs": [],
   "source": [
    "def build_action_space_exploring_start(env):\n",
    "    return lambda: [0.5] * env.action_space.n\n",
    "\n",
    "def epsilon_greedy_policy(state_action_value, epsilon=0.1):\n",
    "    take_random_action_prob = np.random.uniform(0, 1)\n",
    "    if take_random_action_prob < epsilon:\n",
    "        action = np.random.randint(0, len(state_action_value))\n",
    "    else:\n",
    "        action = np.argmax(state_action_value)\n",
    "    \n",
    "    return action\n",
    "\n",
    "agent = Dyna(action_space=build_action_space_exploring_start(env), gamma=0.99, alpha=0.1, policy=epsilon_greedy_policy, number_of_model_repetition=50)"
   ]
  },
  {
   "cell_type": "code",
   "execution_count": null,
   "metadata": {},
   "outputs": [],
   "source": [
    "buffer_size = 10\n",
    "rewards = []\n",
    "steps = []\n",
    "epsilons = []\n",
    "\n",
    "for i in range(150):\n",
    "    reward, nb_step = play_env(env, agent)\n",
    "\n",
    "    rewards.append(reward)\n",
    "    steps.append(nb_step)\n",
    "    # epsilons.append(epsilon_greedy_policy.epsilon)"
   ]
  },
  {
   "cell_type": "code",
   "execution_count": null,
   "metadata": {},
   "outputs": [],
   "source": [
    "len(agent.state_action_values)"
   ]
  },
  {
   "cell_type": "code",
   "execution_count": null,
   "metadata": {},
   "outputs": [],
   "source": [
    "fig = go.Figure()\n",
    "\n",
    "fig.add_trace(go.Scatter(\n",
    "    x=[i for i in range(len(rewards))],\n",
    "    y=rewards,\n",
    "))\n",
    "\n",
    "fig.show()"
   ]
  },
  {
   "cell_type": "code",
   "execution_count": null,
   "metadata": {},
   "outputs": [],
   "source": [
    "fig = go.Figure()\n",
    "\n",
    "fig.add_trace(go.Scatter(\n",
    "    x=[i for i in range(len(steps))],\n",
    "    y=steps,\n",
    "))\n",
    "\n",
    "print(\"Total nb steps:\", sum(steps))\n",
    "\n",
    "fig.show()"
   ]
  },
  {
   "cell_type": "code",
   "execution_count": null,
   "metadata": {},
   "outputs": [],
   "source": [
    "fig = go.Figure()\n",
    "\n",
    "fig.add_trace(go.Scatter(\n",
    "    x=[i for i in range(len(epsilons))],\n",
    "    y=epsilons,\n",
    "))\n",
    "\n",
    "fig.show()"
   ]
  },
  {
   "cell_type": "code",
   "execution_count": null,
   "metadata": {},
   "outputs": [],
   "source": [
    "env = gym.make('FrozenLake-v1', render_mode=\"rgb_array\", desc=None, map_name=\"8x8\", is_slippery=False)\n",
    "video_env = gym.wrappers.RecordVideo(env=env, video_folder=\"../videos\", name_prefix=\"test-video\")\n",
    "\n",
    "reward = play_env(video_env, agent)\n",
    "\n",
    "video_env.close()\n",
    "\n",
    "print(reward)"
   ]
  }
 ],
 "metadata": {
  "kernelspec": {
   "display_name": ".venv",
   "language": "python",
   "name": "python3"
  },
  "language_info": {
   "codemirror_mode": {
    "name": "ipython",
    "version": 3
   },
   "file_extension": ".py",
   "mimetype": "text/x-python",
   "name": "python",
   "nbconvert_exporter": "python",
   "pygments_lexer": "ipython3",
   "version": "3.11.2"
  }
 },
 "nbformat": 4,
 "nbformat_minor": 2
}
