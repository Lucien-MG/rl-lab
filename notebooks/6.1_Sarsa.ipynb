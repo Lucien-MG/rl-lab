{
 "cells": [
  {
   "cell_type": "code",
   "execution_count": null,
   "metadata": {},
   "outputs": [],
   "source": [
    "import collections\n",
    "import numpy as np\n",
    "import gymnasium as gym\n",
    "import plotly.graph_objects as go\n",
    "\n",
    "from IPython.display import Video"
   ]
  },
  {
   "cell_type": "code",
   "execution_count": null,
   "metadata": {},
   "outputs": [],
   "source": [
    "env = gym.make('FrozenLake-v1', desc=None, map_name=\"4x4\", is_slippery=False)"
   ]
  },
  {
   "cell_type": "code",
   "execution_count": null,
   "metadata": {},
   "outputs": [],
   "source": [
    "def play_env(env, agent, record=False):\n",
    "    terminated = False\n",
    "    observation, info = env.reset()\n",
    "\n",
    "    if record:\n",
    "        env.start_video_recorder()\n",
    "        env.render()\n",
    "\n",
    "    while not terminated:\n",
    "        action = agent.action(observation)\n",
    "\n",
    "        new_observation, reward, terminated, truncated, info = env.step(action)\n",
    "\n",
    "        if record:\n",
    "            env.render()\n",
    "\n",
    "        agent.observe(observation, new_observation, action, reward, terminated)\n",
    "\n",
    "        observation = new_observation\n",
    "    \n",
    "    agent.estimating()\n",
    "\n",
    "    return reward"
   ]
  },
  {
   "cell_type": "code",
   "execution_count": null,
   "metadata": {},
   "outputs": [],
   "source": [
    "class Sarsa():\n",
    "\n",
    "    def __init__(self, action_space, gamma, alpha, policy):\n",
    "        self.gamma  = gamma\n",
    "        self.alpha = alpha\n",
    "        self.policy = policy\n",
    "\n",
    "        self.state_action_values = collections.defaultdict(action_space)\n",
    "\n",
    "        self.states = []\n",
    "        self.actions = []\n",
    "        self.rewards = []\n",
    "\n",
    "        self.next_action = None\n",
    "\n",
    "    def action(self, state):\n",
    "        if self.next_action == None:\n",
    "            state_action_value = self.state_action_values[state]\n",
    "            return self.policy(state_action_value)\n",
    "        else:\n",
    "            return self.next_action\n",
    "    \n",
    "    def observe(self, state, next_state, action, reward, terminated):\n",
    "        self.next_action = self.policy(self.state_action_values[next_state])\n",
    "\n",
    "        if terminated:\n",
    "            self.state_action_values[state][action] += self.alpha * (reward - self.state_action_values[state][action])\n",
    "        else:\n",
    "            self.state_action_values[state][action] += self.alpha * (\n",
    "                reward + self.gamma * self.state_action_values[next_state][self.next_action] - self.state_action_values[state][action]\n",
    "            )\n",
    "    \n",
    "    def estimating(self):\n",
    "        return"
   ]
  },
  {
   "cell_type": "code",
   "execution_count": null,
   "metadata": {},
   "outputs": [],
   "source": [
    "def build_action_space_exploring_start(env):\n",
    "    return lambda: [1] * env.action_space.n\n",
    "\n",
    "def epsilon_greedy_policy(state_action_value, epsilon=0.1):\n",
    "    take_random_action_prob = np.random.uniform(0, 1)\n",
    "\n",
    "    if take_random_action_prob < epsilon:\n",
    "        return np.random.randint(0, len(state_action_value))\n",
    "    else:\n",
    "        return np.argmax(state_action_value)\n",
    "\n",
    "agent = Sarsa(action_space=build_action_space_exploring_start(env), gamma=0.99, alpha=0.1, policy=epsilon_greedy_policy)"
   ]
  },
  {
   "cell_type": "code",
   "execution_count": null,
   "metadata": {},
   "outputs": [],
   "source": [
    "buffer_size = 10\n",
    "mean_last_rewards = []\n",
    "last_rewards = [0] * buffer_size\n",
    "\n",
    "for i in range(100):\n",
    "    last_reward = play_env(env, agent)\n",
    "\n",
    "    last_rewards[i % buffer_size] = last_reward\n",
    "\n",
    "    if i % buffer_size == 0:\n",
    "        mean_last_rewards.append(sum(last_rewards) / buffer_size)"
   ]
  },
  {
   "cell_type": "code",
   "execution_count": null,
   "metadata": {},
   "outputs": [],
   "source": [
    "len(agent.state_action_values)"
   ]
  },
  {
   "cell_type": "code",
   "execution_count": null,
   "metadata": {},
   "outputs": [],
   "source": [
    "fig = go.Figure()\n",
    "\n",
    "fig.add_trace(go.Scatter(\n",
    "    x=[i for i in range(len(mean_last_rewards))],\n",
    "    y=mean_last_rewards,\n",
    "))\n",
    "\n",
    "fig.show()"
   ]
  },
  {
   "cell_type": "code",
   "execution_count": null,
   "metadata": {},
   "outputs": [],
   "source": [
    "env = gym.make('FrozenLake-v1', render_mode=\"rgb_array\", desc=None, map_name=\"4x4\", is_slippery=False)\n",
    "video_env = gym.wrappers.RecordVideo(env=env, video_folder=\"../videos\", name_prefix=\"test-video\")\n",
    "\n",
    "reward = play_env(video_env, agent)\n",
    "\n",
    "video_env.close()\n",
    "\n",
    "print(reward)"
   ]
  },
  {
   "cell_type": "code",
   "execution_count": null,
   "metadata": {},
   "outputs": [],
   "source": [
    "Video(\"/home/lucien/Workspace/Project/rl-lab/videos/test-video-episode-0.mp4\")"
   ]
  },
  {
   "cell_type": "code",
   "execution_count": null,
   "metadata": {},
   "outputs": [],
   "source": []
  }
 ],
 "metadata": {
  "kernelspec": {
   "display_name": ".venv",
   "language": "python",
   "name": "python3"
  },
  "language_info": {
   "codemirror_mode": {
    "name": "ipython",
    "version": 3
   },
   "file_extension": ".py",
   "mimetype": "text/x-python",
   "name": "python",
   "nbconvert_exporter": "python",
   "pygments_lexer": "ipython3",
   "version": "3.11.2"
  }
 },
 "nbformat": 4,
 "nbformat_minor": 2
}
